{
 "cells": [
  {
   "cell_type": "code",
   "execution_count": 17,
   "metadata": {},
   "outputs": [],
   "source": [
    "from copy import deepcopy\n",
    "import gensim\n",
    "import numpy as np\n",
    "import pandas as pd\n",
    "import random\n",
    "from sklearn.preprocessing import Normalizer\n",
    "import unittest\n",
    "from unittest import TestCase\n",
    "import tempfile\n",
    "\n",
    "import pyarrow as pa\n",
    "\n",
    "model_router = lambda x : \"en\" if np.random.rand() > 0.5 else \"fr\"\n",
    "\n",
    "model = {\n",
    "    \"en\": lambda x : [0.1, 0.2],\n",
    "    \"fr\": lambda x : [-4.0, -3.0]\n",
    "}\n",
    "\n",
    "column = pa.array([\n",
    "    \"stentence 1\",\n",
    "    \"i cant rite wright lmao\",\n",
    "    \"se 3\",\n",
    "    \"s4\",\n",
    "    \"sen 5\",\n",
    "    \"sixth\",\n",
    "    '7 7 7'\n",
    "])\n",
    "\n",
    "vector_size = 2"
   ]
  },
  {
   "cell_type": "code",
   "execution_count": 24,
   "metadata": {},
   "outputs": [
    {
     "data": {
      "text/plain": [
       "array([[-4. , -3. ],\n",
       "       [ 0.1,  0.2],\n",
       "       [ 0.1,  0.2],\n",
       "       [-4. , -3. ],\n",
       "       [ 0.1,  0.2],\n",
       "       [ 0.1,  0.2],\n",
       "       [-4. , -3. ]])"
      ]
     },
     "execution_count": 24,
     "metadata": {},
     "output_type": "execute_result"
    }
   ],
   "source": [
    "res = np.zeros(shape=(len(column), vector_size))\n",
    "\n",
    "routes = pd.Series([model_router(x) for x in column])\n",
    "\n",
    "for k in model:\n",
    "    idx = pa.array(routes == k)\n",
    "    res[idx] = model[k](column.filter(idx))\n",
    "\n",
    "res"
   ]
  },
  {
   "cell_type": "code",
   "execution_count": null,
   "metadata": {},
   "outputs": [],
   "source": []
  },
  {
   "cell_type": "code",
   "execution_count": null,
   "metadata": {},
   "outputs": [],
   "source": []
  },
  {
   "cell_type": "code",
   "execution_count": null,
   "metadata": {},
   "outputs": [],
   "source": []
  },
  {
   "cell_type": "code",
   "execution_count": null,
   "metadata": {},
   "outputs": [],
   "source": []
  },
  {
   "cell_type": "code",
   "execution_count": null,
   "metadata": {},
   "outputs": [],
   "source": []
  }
 ],
 "metadata": {
  "kernelspec": {
   "display_name": "base",
   "language": "python",
   "name": "python3"
  },
  "language_info": {
   "codemirror_mode": {
    "name": "ipython",
    "version": 3
   },
   "file_extension": ".py",
   "mimetype": "text/x-python",
   "name": "python",
   "nbconvert_exporter": "python",
   "pygments_lexer": "ipython3",
   "version": "3.10.9"
  },
  "orig_nbformat": 4
 },
 "nbformat": 4,
 "nbformat_minor": 2
}
